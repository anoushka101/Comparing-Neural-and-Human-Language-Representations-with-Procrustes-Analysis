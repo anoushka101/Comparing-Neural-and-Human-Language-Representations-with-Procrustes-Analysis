{
  "cells": [
    {
      "cell_type": "markdown",
      "metadata": {
        "id": "GzaWYInXfn62"
      },
      "source": [
        "# **Rock Image Classification**"
      ]
    },
    {
      "cell_type": "markdown",
      "source": [
        "Importing libraries"
      ],
      "metadata": {
        "id": "DpNBItGy7-jy"
      }
    },
    {
      "cell_type": "code",
      "execution_count": null,
      "metadata": {
        "id": "wYxRALZTdG-5"
      },
      "outputs": [],
      "source": [
        "import os\n",
        "import numpy as np\n",
        "from tensorflow.keras.preprocessing.image import img_to_array, load_img\n",
        "import tensorflow as tf\n",
        "from tensorflow.keras.preprocessing.image import ImageDataGenerator\n",
        "import matplotlib.pyplot as plt\n",
        "from tensorflow.keras.applications import ResNet50\n",
        "from tensorflow.keras.layers import Dense, GlobalAveragePooling2D, Dropout\n",
        "from tensorflow.keras.models import Model"
      ]
    },
    {
      "cell_type": "code",
      "execution_count": null,
      "metadata": {
        "colab": {
          "base_uri": "https://localhost:8080/"
        },
        "id": "MEwlPFCszv33",
        "outputId": "776a9da7-f973-46af-c491-7ee358e2b8c6"
      },
      "outputs": [
        {
          "output_type": "stream",
          "name": "stdout",
          "text": [
            "Drive already mounted at /content/drive; to attempt to forcibly remount, call drive.mount(\"/content/drive\", force_remount=True).\n"
          ]
        }
      ],
      "source": [
        "from google.colab import drive\n",
        "drive.mount('/content/drive')"
      ]
    },
    {
      "cell_type": "markdown",
      "source": [
        "# **Rock Data**"
      ],
      "metadata": {
        "id": "4smSbfVL8HDy"
      }
    },
    {
      "cell_type": "markdown",
      "source": [
        "### 1) Create a training and validation dataset"
      ],
      "metadata": {
        "id": "dXLEbWpH8B-E"
      }
    },
    {
      "cell_type": "markdown",
      "source": [
        "Adding 30 categories and 12 images in each category for the training data"
      ],
      "metadata": {
        "id": "bqM57xLb8f8R"
      }
    },
    {
      "cell_type": "code",
      "execution_count": null,
      "metadata": {
        "id": "MHEJeSYJPeE6"
      },
      "outputs": [],
      "source": [
        "def training_data(folder_path, save_folder_path):\n",
        "    image_data = []\n",
        "\n",
        "    # Iterate through each file in the folder\n",
        "    for filename in os.listdir(folder_path):\n",
        "        if filename.endswith('.jpg') or filename.endswith('.png'):\n",
        "            # Extract category name from the second word of the filename\n",
        "            category_name = filename.split('_')[1]\n",
        "\n",
        "            # Load and process the image\n",
        "            image_path = os.path.join(folder_path, filename)\n",
        "            img = load_img(image_path, color_mode='grayscale', target_size=(224, 224))\n",
        "            img_array = img_to_array(img)\n",
        "            image_data.append(img_array)\n",
        "\n",
        "            # Save the image to the respective category folder\n",
        "            category_folder = os.path.join(save_folder_path, category_name)\n",
        "            os.makedirs(category_folder, exist_ok=True)\n",
        "            img.save(os.path.join(category_folder, filename))\n",
        "\n",
        "    return np.array(image_data)\n",
        "\n",
        "# Loading train data and saving the images to respective category folders\n",
        "train_folder_path = '/content/drive/MyDrive/360 Rocks'\n",
        "train_save_folder_path = 'TrainingData'\n",
        "train_image_data = training_data(train_folder_path, train_save_folder_path)\n"
      ]
    },
    {
      "cell_type": "code",
      "execution_count": null,
      "metadata": {
        "id": "3L6CuoxiguTk"
      },
      "outputs": [],
      "source": [
        "train_image_data = np.repeat(train_image_data, 3, axis=-1)"
      ]
    },
    {
      "cell_type": "code",
      "execution_count": null,
      "metadata": {
        "colab": {
          "base_uri": "https://localhost:8080/"
        },
        "id": "yd2OPU0Wgvkr",
        "outputId": "e3cbf80e-febf-4293-abff-710b72a3ab87"
      },
      "outputs": [
        {
          "output_type": "execute_result",
          "data": {
            "text/plain": [
              "(360, 224, 224, 3)"
            ]
          },
          "metadata": {},
          "execution_count": 8
        }
      ],
      "source": [
        "train_image_data.shape"
      ]
    },
    {
      "cell_type": "markdown",
      "source": [
        "Adding 30 categories and 4 images in each category for the validation data"
      ],
      "metadata": {
        "id": "b0wTvFfb8qTD"
      }
    },
    {
      "cell_type": "code",
      "execution_count": null,
      "metadata": {
        "id": "nYZrdC4CRXHO"
      },
      "outputs": [],
      "source": [
        "def validation_data(folder_path, save_folder_path):\n",
        "    image_data = []\n",
        "\n",
        "    # Iterate through each file in the folder\n",
        "    for filename in os.listdir(folder_path):\n",
        "        if filename.endswith('.jpg') or filename.endswith('.png'):\n",
        "            # Extract category name from the second word of the filename\n",
        "            category_name = filename.split('_')[1]\n",
        "\n",
        "            # Load and process the image\n",
        "            image_path = os.path.join(folder_path, filename)\n",
        "            img = load_img(image_path, color_mode='grayscale', target_size=(224, 224))\n",
        "            img_array = img_to_array(img)\n",
        "            image_data.append(img_array)\n",
        "\n",
        "            # Save the image to the respective category folder\n",
        "            category_folder = os.path.join(save_folder_path, category_name)\n",
        "            os.makedirs(category_folder, exist_ok=True)\n",
        "            img.save(os.path.join(category_folder, filename))\n",
        "\n",
        "    return np.array(image_data)\n",
        "\n",
        "# Loading train data and saving the images to respective category folders\n",
        "val_folder_path = '/content/drive/MyDrive/120 Rocks'\n",
        "val_save_folder_path = 'ValidationData'\n",
        "val_image_data = validation_data(val_folder_path, val_save_folder_path)"
      ]
    },
    {
      "cell_type": "code",
      "execution_count": null,
      "metadata": {
        "id": "t86Jzbgbg19L"
      },
      "outputs": [],
      "source": [
        "val_image_data = np.repeat(val_image_data, 3, axis=-1)"
      ]
    },
    {
      "cell_type": "code",
      "execution_count": null,
      "metadata": {
        "colab": {
          "base_uri": "https://localhost:8080/"
        },
        "id": "dfZZIw-pKohJ",
        "outputId": "9a2d1625-9dd8-4dbb-b146-f1599e1074c7"
      },
      "outputs": [
        {
          "output_type": "execute_result",
          "data": {
            "text/plain": [
              "(120, 224, 224, 3)"
            ]
          },
          "metadata": {},
          "execution_count": 11
        }
      ],
      "source": [
        "val_image_data.shape"
      ]
    },
    {
      "cell_type": "markdown",
      "source": [
        "## 2) Build the input pipeline."
      ],
      "metadata": {
        "id": "fAmX-yRs8um1"
      }
    },
    {
      "cell_type": "code",
      "execution_count": null,
      "metadata": {
        "colab": {
          "base_uri": "https://localhost:8080/"
        },
        "id": "Pe-zCo2_mStB",
        "outputId": "2aa9cfb5-02ad-4c39-f787-7a2ac190effa"
      },
      "outputs": [
        {
          "output_type": "stream",
          "name": "stdout",
          "text": [
            "Found 360 images belonging to 30 classes.\n",
            "Found 120 images belonging to 30 classes.\n"
          ]
        }
      ],
      "source": [
        "train_path = 'TrainingData'\n",
        "val_path = 'ValidationData'\n",
        "\n",
        "# Assuming you want each batch to contain 32 images\n",
        "batch_size = 32\n",
        "num_train_images = 3600\n",
        "num_val_images = 3600\n",
        "image_size = (224, 224)\n",
        "\n",
        "# Calculate steps per epoch\n",
        "steps_per_epoch = num_train_images // batch_size\n",
        "validation_steps = num_val_images // batch_size\n",
        "\n",
        "train_datagen = ImageDataGenerator(\n",
        "    rescale=1./255,\n",
        "    rotation_range=20,\n",
        "    width_shift_range=0.2,\n",
        "    height_shift_range=0.2,\n",
        "    shear_range=0.2,\n",
        "    zoom_range=0.2,\n",
        "    horizontal_flip=True,\n",
        "    fill_mode='nearest'\n",
        ")\n",
        "\n",
        "val_datagen = ImageDataGenerator(rescale=1./255)\n",
        "\n",
        "train_generator = train_datagen.flow_from_directory(\n",
        "    train_path,\n",
        "    target_size=(224, 224),\n",
        "    batch_size=32,\n",
        "    class_mode='categorical'\n",
        ")\n",
        "\n",
        "val_generator = val_datagen.flow_from_directory(\n",
        "    val_path,\n",
        "    target_size=(224, 224),\n",
        "    batch_size=32,\n",
        "    class_mode='categorical'\n",
        ")"
      ]
    },
    {
      "cell_type": "markdown",
      "metadata": {
        "id": "aWByg0HPfn66"
      },
      "source": [
        "## 3) Fine-tune a pretrained neural network"
      ]
    },
    {
      "cell_type": "code",
      "execution_count": null,
      "metadata": {
        "colab": {
          "base_uri": "https://localhost:8080/"
        },
        "id": "ejYUEAgSa2Hy",
        "outputId": "62d52bd6-3795-44da-8652-60551f69cf6d"
      },
      "outputs": [
        {
          "output_type": "stream",
          "name": "stdout",
          "text": [
            "Epoch 1/11\n",
            "12/12 [==============================] - 9s 480ms/step - loss: 3.4071 - accuracy: 0.0194 - val_loss: 3.3967 - val_accuracy: 0.0333\n",
            "Epoch 2/11\n",
            "12/12 [==============================] - 5s 406ms/step - loss: 3.3886 - accuracy: 0.0389 - val_loss: 3.3869 - val_accuracy: 0.0250\n",
            "Epoch 3/11\n",
            "12/12 [==============================] - 6s 544ms/step - loss: 3.3754 - accuracy: 0.0444 - val_loss: 3.3740 - val_accuracy: 0.0417\n",
            "Epoch 4/11\n",
            "12/12 [==============================] - 6s 463ms/step - loss: 3.3636 - accuracy: 0.0417 - val_loss: 3.3615 - val_accuracy: 0.0417\n",
            "Epoch 5/11\n",
            "12/12 [==============================] - 7s 539ms/step - loss: 3.3469 - accuracy: 0.0694 - val_loss: 3.3513 - val_accuracy: 0.0417\n",
            "Epoch 6/11\n",
            "12/12 [==============================] - 5s 411ms/step - loss: 3.3423 - accuracy: 0.0667 - val_loss: 3.3436 - val_accuracy: 0.0500\n",
            "Epoch 7/11\n",
            "12/12 [==============================] - 7s 549ms/step - loss: 3.3254 - accuracy: 0.0806 - val_loss: 3.3356 - val_accuracy: 0.0583\n",
            "Epoch 8/11\n",
            "12/12 [==============================] - 7s 624ms/step - loss: 3.3141 - accuracy: 0.0944 - val_loss: 3.3289 - val_accuracy: 0.0750\n",
            "Epoch 9/11\n",
            "12/12 [==============================] - 5s 412ms/step - loss: 3.3102 - accuracy: 0.0833 - val_loss: 3.3243 - val_accuracy: 0.0500\n",
            "Epoch 10/11\n",
            "12/12 [==============================] - 6s 509ms/step - loss: 3.3010 - accuracy: 0.1194 - val_loss: 3.3196 - val_accuracy: 0.0750\n",
            "Epoch 11/11\n",
            "12/12 [==============================] - 5s 405ms/step - loss: 3.2928 - accuracy: 0.1222 - val_loss: 3.3138 - val_accuracy: 0.0833\n",
            "Epoch 1/25\n",
            "12/12 [==============================] - 39s 972ms/step - loss: 3.3068 - accuracy: 0.1000 - val_loss: 3.3282 - val_accuracy: 0.0917\n",
            "Epoch 2/25\n",
            "12/12 [==============================] - 8s 650ms/step - loss: 3.2745 - accuracy: 0.1167 - val_loss: 3.3347 - val_accuracy: 0.0500\n",
            "Epoch 3/25\n",
            "12/12 [==============================] - 8s 689ms/step - loss: 3.2932 - accuracy: 0.0917 - val_loss: 3.2711 - val_accuracy: 0.0667\n",
            "Epoch 4/25\n",
            "12/12 [==============================] - 9s 765ms/step - loss: 3.2684 - accuracy: 0.0806 - val_loss: 3.2847 - val_accuracy: 0.0750\n",
            "Epoch 5/25\n",
            "12/12 [==============================] - 8s 614ms/step - loss: 3.2598 - accuracy: 0.0861 - val_loss: 3.3676 - val_accuracy: 0.0250\n",
            "Epoch 6/25\n",
            "12/12 [==============================] - 8s 611ms/step - loss: 3.2824 - accuracy: 0.0806 - val_loss: 3.3502 - val_accuracy: 0.0333\n",
            "Epoch 7/25\n",
            "12/12 [==============================] - 7s 650ms/step - loss: 3.2679 - accuracy: 0.0833 - val_loss: 3.3060 - val_accuracy: 0.0667\n",
            "Epoch 8/25\n",
            "12/12 [==============================] - 7s 549ms/step - loss: 3.2479 - accuracy: 0.1056 - val_loss: 3.3354 - val_accuracy: 0.0417\n",
            "Epoch 9/25\n",
            "12/12 [==============================] - 10s 798ms/step - loss: 3.2532 - accuracy: 0.0861 - val_loss: 3.3726 - val_accuracy: 0.0417\n",
            "Epoch 10/25\n",
            "12/12 [==============================] - 7s 597ms/step - loss: 3.2262 - accuracy: 0.1250 - val_loss: 3.3608 - val_accuracy: 0.0333\n",
            "Epoch 11/25\n",
            "12/12 [==============================] - 9s 756ms/step - loss: 3.2211 - accuracy: 0.1139 - val_loss: 3.3822 - val_accuracy: 0.0250\n",
            "Epoch 12/25\n",
            "12/12 [==============================] - 7s 581ms/step - loss: 3.2198 - accuracy: 0.1333 - val_loss: 3.3602 - val_accuracy: 0.0833\n",
            "Epoch 13/25\n",
            "12/12 [==============================] - 7s 550ms/step - loss: 3.2360 - accuracy: 0.1056 - val_loss: 3.3079 - val_accuracy: 0.0500\n",
            "Epoch 14/25\n",
            "12/12 [==============================] - 8s 658ms/step - loss: 3.2042 - accuracy: 0.1139 - val_loss: 3.2692 - val_accuracy: 0.0833\n",
            "Epoch 15/25\n",
            "12/12 [==============================] - 7s 546ms/step - loss: 3.2133 - accuracy: 0.1028 - val_loss: 3.3175 - val_accuracy: 0.0750\n",
            "Epoch 16/25\n",
            "12/12 [==============================] - 8s 641ms/step - loss: 3.2033 - accuracy: 0.1167 - val_loss: 3.4014 - val_accuracy: 0.0500\n",
            "Epoch 17/25\n",
            "12/12 [==============================] - 8s 633ms/step - loss: 3.2011 - accuracy: 0.1333 - val_loss: 3.4228 - val_accuracy: 0.0333\n",
            "Epoch 18/25\n",
            "12/12 [==============================] - 7s 555ms/step - loss: 3.1884 - accuracy: 0.1250 - val_loss: 3.3211 - val_accuracy: 0.0750\n",
            "Epoch 19/25\n",
            "12/12 [==============================] - 8s 600ms/step - loss: 3.2172 - accuracy: 0.1167 - val_loss: 3.3399 - val_accuracy: 0.0583\n",
            "Epoch 20/25\n",
            "12/12 [==============================] - 7s 570ms/step - loss: 3.2119 - accuracy: 0.1306 - val_loss: 3.4171 - val_accuracy: 0.0667\n",
            "Epoch 21/25\n",
            "12/12 [==============================] - 7s 544ms/step - loss: 3.1889 - accuracy: 0.1306 - val_loss: 3.2898 - val_accuracy: 0.1083\n",
            "Epoch 22/25\n",
            "12/12 [==============================] - 8s 649ms/step - loss: 3.2143 - accuracy: 0.1333 - val_loss: 3.3646 - val_accuracy: 0.0750\n",
            "Epoch 23/25\n",
            "12/12 [==============================] - 7s 543ms/step - loss: 3.1847 - accuracy: 0.1111 - val_loss: 3.3045 - val_accuracy: 0.1167\n",
            "Epoch 24/25\n",
            "12/12 [==============================] - 7s 549ms/step - loss: 3.1770 - accuracy: 0.1111 - val_loss: 3.2682 - val_accuracy: 0.0833\n",
            "Epoch 25/25\n",
            "12/12 [==============================] - 9s 705ms/step - loss: 3.1882 - accuracy: 0.0944 - val_loss: 3.3609 - val_accuracy: 0.0667\n"
          ]
        }
      ],
      "source": [
        "from tensorflow.keras.layers import Dense, GlobalAveragePooling2D, Dropout\n",
        "from tensorflow.keras.models import Sequential\n",
        "from tensorflow.keras.models import Model\n",
        "from tensorflow.keras.callbacks import EarlyStopping, ModelCheckpoint, LearningRateScheduler\n",
        "\n",
        "base_model = tf.keras.applications.Xception(weights='imagenet', include_top=False, input_shape=(224, 224, 3))\n",
        "\n",
        "# Create a new model on top\n",
        "model = Sequential([\n",
        "    base_model,  # Add the pre-trained base\n",
        "    GlobalAveragePooling2D(),  # Add GAP to reduce spatial dimensions\n",
        "    Dropout(0.5),  # Dropout for regularization\n",
        "    Dense(8, activation='softmax'),  # New dense layer with 8 units\n",
        "    Dense(30, activation='softmax')  # Final output layer with 30 units for classification\n",
        "])\n",
        "\n",
        "# Freeze the base model's layers and compile\n",
        "for layer in base_model.layers:\n",
        "    layer.trainable = False\n",
        "\n",
        "model.compile(optimizer='adam', loss='categorical_crossentropy', metrics=['accuracy'])\n",
        "\n",
        "# Callbacks\n",
        "checkpoint = ModelCheckpoint(\n",
        "    'best_model.h5', save_best_only=True, monitor='val_loss', mode='min')\n",
        "early_stopping = EarlyStopping(monitor='val_loss', patience=10, verbose=1, mode='min')\n",
        "def scheduler(epoch, lr):\n",
        "    if epoch < 10:\n",
        "        return lr\n",
        "    else:\n",
        "        return lr * tf.math.exp(-0.1)\n",
        "lr_scheduler = LearningRateScheduler(scheduler)\n",
        "\n",
        "\n",
        "# First phase: Train the added layers\n",
        "history_phase1 = model.fit(\n",
        "    train_generator,\n",
        "    validation_data=val_generator,\n",
        "    epochs=11,\n",
        ")\n",
        "\n",
        "# Second phase: Fine-tune the entire model\n",
        "for layer in base_model.layers:\n",
        "    layer.trainable = True  # Unfreeze the entire model\n",
        "\n",
        "model.compile(optimizer='adam', loss='categorical_crossentropy', metrics=['accuracy'])\n",
        "\n",
        "history_phase2 = model.fit(\n",
        "    train_generator,\n",
        "    validation_data=val_generator,\n",
        "    epochs=25,  # Continue fine-tuning for 25 more epochs\n",
        ")"
      ]
    },
    {
      "cell_type": "code",
      "execution_count": null,
      "metadata": {
        "id": "a5-RYhonfd-_",
        "colab": {
          "base_uri": "https://localhost:8080/",
          "height": 472
        },
        "outputId": "c07f3268-bcd5-4456-fbee-5b1f58234e0a"
      },
      "outputs": [
        {
          "output_type": "display_data",
          "data": {
            "text/plain": [
              "<Figure size 640x480 with 1 Axes>"
            ],
            "image/png": "[encoded data removed]"
          },
          "metadata": {}
        }
      ],
      "source": [
        "# Plot training and validation loss\n",
        "plt.plot(history_phase2.history['loss'], label='Training Loss')\n",
        "plt.plot(history_phase2.history['val_loss'], label='Validation Loss')\n",
        "plt.xlabel('Epochs')\n",
        "plt.ylabel('Loss')\n",
        "plt.legend()\n",
        "plt.title('Training and Validation Loss')\n",
        "plt.show()"
      ]
    },
    {
      "cell_type": "code",
      "source": [
        "plt.plot(history_phase2.history['accuracy'], label='Training accuracy')\n",
        "plt.plot(history_phase2.history['val_accuracy'], label='Validation accuracy')\n",
        "plt.xlabel('Epochs')\n",
        "plt.ylabel('Accuracy')\n",
        "plt.legend()\n",
        "plt.title('Training and Validation Accuracy')\n",
        "plt.show()"
      ],
      "metadata": {
        "colab": {
          "base_uri": "https://localhost:8080/",
          "height": 472
        },
        "id": "xvfx8vJdtMIs",
        "outputId": "bc793baa-3b6d-4aa0-b590-260462e8bcee"
      },
      "execution_count": null,
      "outputs": [
        {
          "output_type": "display_data",
          "data": {
            "text/plain": [
              "<Figure size 640x480 with 1 Axes>"
            ],
            "image/png": "[encoded data removed]"
          },
          "metadata": {}
        }
      ]
    },
    {
      "cell_type": "markdown",
      "source": [
        "### Network Performance:\n",
        "- The network's accuracy is quite low, hovering around 2-12% for training and roughly the same for validation, which is far from ideal. Typically, for a classification task, we would expect much higher accuracy, depending on the complexity of the task and the amount of data available.\n",
        "- The loss is decreasing over time in the training set, which is a good sign. However, the validation loss is not consistently decreasing, indicating that the model might not be learning effectively.\n",
        "\n",
        "### Convergence:\n",
        "- There isn't a clear indication of convergence to a stable solution. The validation loss oscillates and, in later epochs, starts increasing, suggesting overfitting, where the model learns the training data too well, including its noise and outliers, and fails to generalize to unseen data.\n",
        "- The graphs show fluctuations in both accuracy and loss for validation, which suggests that the model is not stabilizing well on the validation set.\n",
        "\n",
        "### Hyperparameter Tweaks:\n",
        "\n",
        "- Model Architecture: The sequential model you've set up has a potential bottleneck caused by the dense layer with only 8 units preceding the final 30-unit classification layer. It is typically beneficial to have a gradual reduction in the number of units rather than a sharp decrease. Consider restructuring the dense layers to ensure there's enough capacity to learn the distinctions between the 30 classes.\n",
        "- Learning Rate and Scheduler: The LearningRateScheduler is defined but not used in the fit calls. Implementing a scheduler that decreases the learning rate as epochs increase might help the model converge more smoothly. Make sure to include the lr_scheduler in the callbacks for both training phases.\n",
        "- Callbacks: The ModelCheckpoint and EarlyStopping are declared but not used in the training calls. Make sure these are included in the callbacks list during model fitting to save the best model and to stop training if the validation loss is not improving.\n",
        "- Optimizer: You are using the Adam optimizer with its default settings. It could be beneficial to experiment with different learning rates or even different optimizers to see if they result in better convergence.\n",
        "- Regularization: The dropout rate of 0.5 is quite high, which is usually good for regularization, but if the network is not large enough or the dropout is too aggressive, it might prevent the network from learning effectively. Experimenting with different rates might yield improvements.\n",
        "\n",
        "It's important to iterate over these hyperparameters systematically, possibly using grid search or random search, to find the best combination. Additionally, if the dataset is small or not diverse enough, gathering more data would be crucial.\n",
        "\n",
        "Considering these tweaks and keeping an eye on both accuracy and loss graphs would likely help improve the performance of the network. The ultimate goal is to have a model that generalizes well to new data, and that often requires a combination of the right architecture, regularization techniques, and training procedure."
      ],
      "metadata": {
        "id": "bS9pegdf9HWz"
      }
    },
    {
      "cell_type": "markdown",
      "source": [
        "## 4) Compute the correlation coefficients"
      ],
      "metadata": {
        "id": "wg748_Cf9DsK"
      }
    },
    {
      "cell_type": "code",
      "execution_count": null,
      "metadata": {
        "id": "yGZ9n4Px4w-1",
        "colab": {
          "base_uri": "https://localhost:8080/"
        },
        "outputId": "7e6e2719-db68-46c9-f9ad-40e06275c52a"
      },
      "outputs": [
        {
          "output_type": "stream",
          "name": "stdout",
          "text": [
            "12/12 [==============================] - 2s 123ms/step\n",
            "4/4 [==============================] - 0s 113ms/step\n",
            "Shape of train_features: (360, 8)\n",
            "Shape of val_features: (120, 8)\n"
          ]
        }
      ],
      "source": [
        "import numpy as np\n",
        "import pandas as pd\n",
        "import os\n",
        "from tensorflow.keras.models import Model\n",
        "from tensorflow.keras.preprocessing import image\n",
        "from scipy.spatial import procrustes\n",
        "from tensorflow.keras.applications.xception import preprocess_input, Xception  # Assuming Xception model\n",
        "\n",
        "# Define paths to your datasets\n",
        "train_dataset_path = '/content/TrainingData'\n",
        "val_dataset_path = '/content/ValidationData'\n",
        "\n",
        "# Extract the model till the pen-ultimate layer\n",
        "model2 = Model(inputs=model.inputs, outputs=model.layers[-2].output)\n",
        "\n",
        "# Load and process images function\n",
        "def load_and_process_images(dataset_path):\n",
        "    image_list = []\n",
        "    for root, dirs, files in os.walk(dataset_path):\n",
        "        for file in files:\n",
        "            if file.lower().endswith((\".png\", \".jpg\", \".jpeg\")):  # Check file extensions\n",
        "                img_path = os.path.join(root, file)\n",
        "                img = image.load_img(img_path, target_size=(224, 224))\n",
        "                img_array = image.img_to_array(img)\n",
        "                img_array = np.expand_dims(img_array, axis=0)\n",
        "                img_array = preprocess_input(img_array)\n",
        "                image_list.append(img_array)\n",
        "    if not image_list:\n",
        "        raise ValueError(f\"No images found in the dataset path {dataset_path}.\")\n",
        "    return np.vstack(image_list)\n",
        "\n",
        "\n",
        "\n",
        "# Load human rankings\n",
        "human_data_train = pd.read_csv('/content/mds_360.txt', header=None, delimiter='\\s+').values\n",
        "human_data_val = pd.read_csv('/content/mds_120.txt', header=None, delimiter='\\s+').values\n",
        "\n",
        "# Load and preprocess the images\n",
        "train_images = load_and_process_images(train_dataset_path)\n",
        "val_images = load_and_process_images(val_dataset_path)\n",
        "\n",
        "# Extract model features\n",
        "def extract_features(model, images):\n",
        "    return model2.predict(images)\n",
        "\n",
        "train_features = extract_features(model, train_images)\n",
        "val_features = extract_features(model, val_images)\n",
        "\n",
        "# Print the shapes of training and validation features\n",
        "print(\"Shape of train_features:\", train_features.shape)\n",
        "print(\"Shape of val_features:\", val_features.shape)\n"
      ]
    },
    {
      "cell_type": "markdown",
      "source": [
        "## Calculate Correlation coefficient"
      ],
      "metadata": {
        "id": "ImLikKyv1c7q"
      }
    },
    {
      "cell_type": "code",
      "source": [
        "def compute_procrustes(human_data, features):\n",
        "    if human_data.shape != features.shape:\n",
        "        raise ValueError(\"Dimension mismatch: Human data dimensions {} vs. Features dimensions {}\".format(human_data.shape, features.shape))\n",
        "\n",
        "    disparities = []\n",
        "    correlations = []\n",
        "\n",
        "    for i in range(features.shape[1]):  # Iterate through each dimension\n",
        "        mtx1, mtx2, disparity = procrustes(human_data[:, [i]], features[:, [i]])\n",
        "        correlation = np.corrcoef(human_data[:, i], features[:, i])[0, 1]\n",
        "        disparities.append(disparity)\n",
        "        correlations.append(correlation)\n",
        "\n",
        "    average_disparity = np.mean(disparities)\n",
        "    average_correlation = np.mean(correlations)\n",
        "\n",
        "    return correlations, disparities, average_correlation, average_disparity\n",
        "\n",
        "def report_correlations_and_disparity(correlations, disparities, average_correlation, average_disparity, dataset_name):\n",
        "    print(f\"Results for {dataset_name}:\")\n",
        "    print(\"Correlations for each dimension:\")\n",
        "    for idx, corr in enumerate(correlations, 1):\n",
        "        print(f\"Dimension {idx}: {corr:.4f}\")\n",
        "    print(f\"Average Correlation: {average_correlation:.4f}\")\n",
        "    print(f\"Average Disparity: {average_disparity:.4f}\\n\")\n",
        "\n",
        "# Example usage\n",
        "train_correlations, train_disparities, train_avg_corr, train_avg_disp = compute_procrustes(human_data_train, train_features)\n",
        "val_correlations, val_disparities, val_avg_corr, val_avg_disp = compute_procrustes(human_data_val, val_features)\n"
      ],
      "metadata": {
        "id": "7OitufEE1Gkm"
      },
      "execution_count": null,
      "outputs": []
    },
    {
      "cell_type": "markdown",
      "source": [
        "# **Report the correlation coefficients**"
      ],
      "metadata": {
        "id": "73gCFY331aAv"
      }
    },
    {
      "cell_type": "code",
      "source": [
        "report_correlations_and_disparity(train_correlations, train_disparities, train_avg_corr, train_avg_disp, \"Training Data\")\n",
        "report_correlations_and_disparity(val_correlations, val_disparities, val_avg_corr, val_avg_disp, \"Validation Data\")"
      ],
      "metadata": {
        "colab": {
          "base_uri": "https://localhost:8080/"
        },
        "id": "cXT4uFNI1ZmU",
        "outputId": "d4ffd843-f033-492e-87a5-698af39dda2f"
      },
      "execution_count": null,
      "outputs": [
        {
          "output_type": "stream",
          "name": "stdout",
          "text": [
            "Results for Training Data:\n",
            "Correlations for each dimension:\n",
            "Dimension 1: 0.1820\n",
            "Dimension 2: 0.1217\n",
            "Dimension 3: -0.0392\n",
            "Dimension 4: -0.0616\n",
            "Dimension 5: 0.0577\n",
            "Dimension 6: -0.0278\n",
            "Dimension 7: -0.0717\n",
            "Dimension 8: 0.0221\n",
            "Average Correlation: 0.0229\n",
            "Average Disparity: 0.9921\n",
            "\n",
            "Results for Validation Data:\n",
            "Correlations for each dimension:\n",
            "Dimension 1: 0.1885\n",
            "Dimension 2: 0.1566\n",
            "Dimension 3: 0.1046\n",
            "Dimension 4: -0.0223\n",
            "Dimension 5: 0.0603\n",
            "Dimension 6: 0.0727\n",
            "Dimension 7: 0.0312\n",
            "Dimension 8: -0.0688\n",
            "Average Correlation: 0.0653\n",
            "Average Disparity: 0.9892\n",
            "\n"
          ]
        }
      ]
    }
  ],
  "metadata": {
    "accelerator": "GPU",
    "colab": {
      "gpuType": "T4",
      "provenance": [],
      "collapsed_sections": [
        "dXLEbWpH8B-E",
        "fAmX-yRs8um1",
        "aWByg0HPfn66",
        "wg748_Cf9DsK",
        "ImLikKyv1c7q",
        "73gCFY331aAv"
      ]
    },
    "kernelspec": {
      "display_name": "Python 3 (ipykernel)",
      "language": "python",
      "name": "python3"
    },
    "language_info": {
      "codemirror_mode": {
        "name": "ipython",
        "version": 3
      },
      "file_extension": ".py",
      "mimetype": "text/x-python",
      "name": "python",
      "nbconvert_exporter": "python",
      "pygments_lexer": "ipython3",
      "version": "3.10.9"
    }
  },
  "nbformat": 4,
  "nbformat_minor": 0
}